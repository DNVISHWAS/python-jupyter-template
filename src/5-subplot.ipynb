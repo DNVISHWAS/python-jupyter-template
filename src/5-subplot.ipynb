{
 "cells": [
  {
   "cell_type": "markdown",
   "metadata": {},
   "source": [
    "### Exercise 5: Subplot Layout"
   ]
  },
  {
   "cell_type": "code",
   "execution_count": null,
   "metadata": {},
   "outputs": [],
   "source": [
    "import matplotlib.pyplot as plt\n",
    "import numpy as np\n",
    "\n",
    "# Create a 2x2 subplot layout\n",
    "fig, axs = plt.subplots(2, 2, figsize=(10, 8))\n",
    "\n",
    "# 1st subplot: Line chart\n",
    "x = np.linspace(0, 10, 100)\n",
    "y = x ** 2\n",
    "axs[0, 0].plot(x, y)\n",
    "axs[0, 0].set_title('Line Chart: y = x^2')\n",
    "\n",
    "# 2nd subplot: Bar chart\n",
    "categories = ['A', 'B', 'C', 'D']\n",
    "values = [5, 7, 3, 9]\n",
    "axs[0, 1].bar(categories, values, color=['red', 'blue', 'green', 'purple'])\n",
    "axs[0, 1].set_title('Bar Chart')\n",
    "\n",
    "# 3rd subplot: Scatter plot\n",
    "x_scatter = [1, 2, 3, 4, 5]\n",
    "y_scatter = [2, 4, 6, 8, 10]\n",
    "axs[1, 0].scatter(x_scatter, y_scatter)\n",
    "for i in range(len(x_scatter)):\n",
    "    axs[1, 0].annotate(f'({x_scatter[i]}, {y_scatter[i]})', (x_scatter[i], y_scatter[i]), textcoords=\"offset points\", xytext=(0, 5), ha='center')\n",
    "axs[1, 0].set_title('Scatter Plot with Annotations')\n",
    "\n",
    "# 4th subplot: Pie chart\n",
    "labels = ['Python', 'Java', 'C++', 'JavaScript']\n",
    "sizes = [40, 25, 20, 15]\n",
    "axs[1, 1].pie(sizes, labels=labels, autopct='%1.1f%%', startangle=90)\n",
    "axs[1, 1].set_title('Pie Chart')\n",
    "\n",
    "# Adjust layout to prevent overlap\n",
    "plt.tight_layout()\n",
    "\n",
    "# Show the plot\n",
    "plt.show()"
   ]
  }
 ],
 "metadata": {
  "language_info": {
   "name": "python"
  }
 },
 "nbformat": 4,
 "nbformat_minor": 2
}
